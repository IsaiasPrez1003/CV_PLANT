{
 "cells": [
  {
   "cell_type": "markdown",
   "id": "ca152010",
   "metadata": {},
   "source": [
    "Project using computer vision to identify flower species."
   ]
  },
  {
   "cell_type": "code",
   "execution_count": null,
   "id": "5d087458",
   "metadata": {},
   "outputs": [],
   "source": [
    "import numpy as np \n",
    "import pandas as pd\n",
    "import cv2\n",
    "import matplotlib.pyplot as plt\n",
    "from PIL import Image\n",
    "import zipfile\n",
    "import os\n",
    "import keras\n",
    "from keras.preprocessing import image\n",
    "from tensorflow.keras import layers\n",
    "from tensorflow.keras.models import load_model\n",
    "from tensorflow.keras.preprocessing.image import ImageDataGenerator, load_img\n",
    "from tensorflow.keras.models import Sequential\n",
    "from tensorflow.keras.layers import Conv2D, MaxPooling2D\n",
    "from tensorflow.keras.layers import Activation, Dropout, Flatten, Dense\n",
    "from tensorflow.keras.optimizers import Adam\n",
    "import tensorflow as tf"
   ]
  },
  {
   "cell_type": "code",
   "execution_count": null,
   "id": "5f58f0d1",
   "metadata": {},
   "outputs": [],
   "source": [
    "zip_file_name = 'flowers-20250320T105846Z-001.zip'\n",
    "base_dir = 'flowers/'\n",
    "os.makedirs(base_dir, exist_ok=True)\n",
    "\n",
    "with zipfile.ZipFile(zip_file_name, 'r') as zip_ref:\n",
    "    zip_ref.extractall(base_dir)\n",
    "\n",
    "img_size = 224\n",
    "batch = 64"
   ]
  }
 ],
 "metadata": {
  "language_info": {
   "name": "python"
  }
 },
 "nbformat": 4,
 "nbformat_minor": 5
}
