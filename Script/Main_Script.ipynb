{
 "cells": [
  {
   "cell_type": "code",
   "execution_count": null,
   "id": "5d087458",
   "metadata": {},
   "outputs": [],
   "source": [
    "# CV_Plant."
   ]
  }
 ],
 "metadata": {
  "language_info": {
   "name": "python"
  }
 },
 "nbformat": 4,
 "nbformat_minor": 5
}
