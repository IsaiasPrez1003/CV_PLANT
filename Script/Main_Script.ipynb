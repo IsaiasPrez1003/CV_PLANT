{
 "cells": [
  {
   "cell_type": "markdown",
   "id": "5d087458",
   "metadata": {},
   "source": [
    "## CV_Plant. \n",
    "Key libraries: Pandas, NumPy, Matplotlib, OpenCV, Tensorflow, keras, os\n"
   ]
  },
  {
   "cell_type": "code",
   "execution_count": null,
   "id": "04d4f18b",
   "metadata": {},
   "outputs": [],
   "source": [
    "import numpy as np\n",
    "import pandas as pd \n",
    "import cv2 \n",
    "import matplotlib.pyplot as plt\n",
    "from PIL import Image\n",
    "import zipfile\n",
    "import os\n",
    "import keras\n",
    "from kera.preprocessing import image \n",
    "from tensorflow.keras import layers\n",
    "from tensorflow.keras import load_model\n",
    "from tensorflow.keras.preprocessing.image import ImageDataGenerator, load_img\n",
    "from tensorflow.keras.models import Sequential\n",
    "from tensorflow.keras.layers import Conv2D, MaxPooling2D\n",
    "from tensorflow.keras.layers import Activation, Dropout, Flatten, Dense\n",
    "from tensorflow.keras.optimizers import Adam\n",
    "import tensorflow as tf "
   ]
  }
 ],
 "metadata": {
  "kernelspec": {
   "display_name": "Python 3",
   "language": "python",
   "name": "python3"
  },
  "language_info": {
   "name": "python",
   "version": "3.12.6"
  }
 },
 "nbformat": 4,
 "nbformat_minor": 5
}
